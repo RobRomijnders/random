{
 "cells": [
  {
   "cell_type": "code",
   "execution_count": 3,
   "metadata": {},
   "outputs": [],
   "source": [
    "import numpy as np\n",
    "import matplotlib.pyplot as plt\n",
    "\n",
    "%matplotlib inline"
   ]
  },
  {
   "cell_type": "markdown",
   "metadata": {},
   "source": [
    "# Rademacher complexity of neural networks\n",
    "\n",
    "Here we explore how the Rademacher complexity works. The Rademacher complexity provides an extension over the VC dimensions to measure the complexity of an hypothesis class. Where VC dimensions refer to \"how many data points can I scatter?\", the Rademacher complexity refers to \"how many data points am I likely to scatter?\".\n",
    "\n",
    "This complexity measure comes of use in hypothesis classes of infinite dimension. Common models like neural networks have, seemingly, infinite VC dimension. Yet, one neural network class seems easier to overfit than another. \n",
    "\n",
    "Particularly, we explore how the prior of neural network weights influences the Rademacher complexity. We show by experiment that a wider prior on network weights results in a higher Rademacher complexity (and thus a looser bound on the generalization gap)"
   ]
  },
  {
   "cell_type": "code",
   "execution_count": 4,
   "metadata": {},
   "outputs": [],
   "source": [
    "def sigmoid(x):\n",
    "    # logistic sigmoid function. 0 at -infinity, 1 at +infinity\n",
    "    return 1 / (1 + np.exp(-x))\n"
   ]
  },
  {
   "cell_type": "code",
   "execution_count": 5,
   "metadata": {},
   "outputs": [
    {
     "name": "stdout",
     "output_type": "stream",
     "text": [
      "0.04100000000000003\n"
     ]
    }
   ],
   "source": [
    "\n",
    "# Set up a forward pass of a neural net\n",
    "num_features = 30  # Given, hard-coded, number of features in our data\n",
    "num_samples = 100  # How many data samples will our (synthetic) data set have?\n",
    "\n",
    "num_neurons = 100  # Number of neurons in the neural net\n",
    "std_weight = 0.1  # prior variance over the weights\n",
    "\n",
    "\n",
    "def nn_forward(x, W1, b1, W2):\n",
    "    \"\"\"\n",
    "    Calculates the decisions {0, 1} for the neural network\n",
    "    \n",
    "    :param x: data matrix in size [num_samples, num_features]\n",
    "    :param W1: weight for the first layer, in size [num_features, num_neurons]\n",
    "    :param b1: biases for the first layer, in size [num_neurons]\n",
    "    :param W2: weights for the second layer, in size [num_neurons, 1]\n",
    "    \"\"\"\n",
    "    assert len(x.shape) == 2\n",
    "    logit = sigmoid(x @ W1 + b1) @ W2\n",
    "    return (logit > 0).astype(np.int)  # Resulting matrix in size [num_samples, 1]\n",
    "\n",
    "\n",
    "# Make random data set\n",
    "data = np.random.rand(num_samples, num_features)\n",
    "labels = np.random.randint(low=0, high=2, size=(num_samples,))\n",
    "\n",
    "\n",
    "def loss_per_sample(pred_func, data_, labels_):\n",
    "    \"\"\"\n",
    "    Calculate the loss per sample.\n",
    "    :param pred_func: the prediction function. Should map data to labels in {0, 1}\n",
    "    :param data_: incoming data matrix in size [num_samples, num_features]\n",
    "    :param labels_: incoming labels, matrix in size [num_samples], values in {0, 1}\n",
    "    \"\"\"\n",
    "    return (pred_func(data) != labels).astype(np.int)\n",
    "\n",
    "\n",
    "# Calculate complexity\n",
    "num_mc = 100  # Number of MC samples to approximate the expectation over sigmas\n",
    "\n",
    "# Make an hypothesis set\n",
    "num_hypotheses = 12\n",
    "W1s = [std_weight * np.random.randn(num_features, num_neurons) for _ in range(num_hypotheses)]\n",
    "b1s = [std_weight * np.random.randn(num_neurons) for _ in range(num_hypotheses)]\n",
    "W2s = [std_weight * np.random.randn(num_neurons) for _ in range(num_hypotheses)]\n",
    "hypothesis_set = list(zip(W1s, b1s, W2s))\n",
    "\n",
    "\n",
    "def rademacher_estimates(hypothesis_set_):\n",
    "    \"\"\"\n",
    "    Generator function to yield estimates of the Rademacher complexity, under SAMPLING of the sigmas.\n",
    "    :return: scalar, being an estimate for the Rademacher complexity for one realization of sigmas\n",
    "    \"\"\"\n",
    "    for n in range(num_mc):  # Do MC sampling. Total enumeration would be 2^num_samples atoms\n",
    "        # Get an estimate for one realization of sigmas\n",
    "        sigmas = np.random.randint(low=0, high=2, size=(num_samples,)) * 2 - 1  # Random indicators in {-1, 1}\n",
    "        \n",
    "        # Get the supremum over all hypotheses of the instant Rademacher complexity\n",
    "        r_est = max((loss_per_sample(lambda x: nn_forward(x, *hypothesis), data, labels) @ sigmas \n",
    "                     for hypothesis in hypothesis_set_))\n",
    "        yield r_est / num_samples  # Division carries over max, so compute it afterwards"
   ]
  },
  {
   "cell_type": "code",
   "execution_count": 6,
   "metadata": {},
   "outputs": [],
   "source": [
    "# Utility functions\n",
    "def rademacher_cpx(hypos):\n",
    "    # Average. (get the Monte Carlo estimate)\n",
    "    return sum(rademacher_estimates(hypos)) / num_mc\n",
    "\n",
    "def rademacher_percentiles(hypos):\n",
    "    # Get percentile statistics\n",
    "    return np.percentile(list(rademacher_estimates(hypos)), [10, 50, 90])\n",
    "\n",
    "\n",
    "print(rademacher_cpx(hypothesis_set))\n"
   ]
  },
  {
   "cell_type": "markdown",
   "metadata": {},
   "source": [
    "## Rademacher complexity of increasing prior width\n",
    "\n",
    "We experiment with increasing the prior width on the Rademacher complexity. Our prior width expresses how \"funky\" the neural network hypotheses can be. A neural network with higher variance in weights can make more funky, high frequency functions. As such, we see the Rademacher complexity increase."
   ]
  },
  {
   "cell_type": "code",
   "execution_count": 7,
   "metadata": {},
   "outputs": [
    {
     "name": "stderr",
     "output_type": "stream",
     "text": [
      "/home/rob/Documents/environments/ml_cpu/lib/python3.6/site-packages/ipykernel_launcher.py:2: RuntimeWarning: overflow encountered in exp\n",
      "  \n"
     ]
    },
    {
     "data": {
      "image/png": "[encoded data removed]",
      "text/plain": [
       "<Figure size 432x288 with 1 Axes>"
      ]
     },
     "metadata": {
      "needs_background": "light"
     },
     "output_type": "display_data"
    }
   ],
   "source": [
    "all_percentiles = []\n",
    "\n",
    "log_std_spread = np.linspace(-3, 2, num=13)  # Spread of log standard deviations to probe\n",
    "for log_std_run in log_std_spread:\n",
    "    std_run = 10**log_std_run  # Scale back from log to linear domain\n",
    "    \n",
    "    # Make an hypothesis set\n",
    "    W1s = [std_run * np.random.randn(num_features, num_neurons) for _ in range(num_hypotheses)]\n",
    "    b1s = [std_run * np.random.randn(num_neurons) for _ in range(num_hypotheses)]\n",
    "    W2s = [std_run * np.random.randn(num_neurons) for _ in range(num_hypotheses)]\n",
    "    hypothesis_set = list(zip(W1s, b1s, W2s))\n",
    "\n",
    "    all_percentiles.append(rademacher_percentiles(hypothesis_set))\n",
    "\n",
    "# Get the error bars for plotting\n",
    "all_percentiles = np.array(all_percentiles)\n",
    "errors = np.abs((all_percentiles[:, (0, 2)]).T - all_percentiles[:, 1])  # Errors are distances from the 50th percentile\n",
    "\n",
    "# Matplotlib magic\n",
    "plt.errorbar(log_std_spread, all_percentiles[:, 1], yerr=errors)\n",
    "plt.xlabel('Increasing standard deviation in log10 scale')\n",
    "plt.ylabel('Rademacher complexity. Showing 10th, 50th and 90th percentile')\n",
    "plt.show()"
   ]
  },
  {
   "cell_type": "markdown",
   "metadata": {},
   "source": [
    "## Rademacher complexity of increasing prior width\n",
    "\n",
    "We experiment with increasing the number of neurons on the Rademacher complexity. My hypothesis would be that more neurons can also create more funky hypotheses. The universal approximation theorem of neural networks informs us that neural networks can approximate any function, provided enough hidden neurons. As such, my hypothesis arose that more neurons would yield an hypothesis class with higher complexity. However, this experiment does not show such results. This observation remains an open question to me?"
   ]
  },
  {
   "cell_type": "code",
   "execution_count": 8,
   "metadata": {},
   "outputs": [
    {
     "data": {
      "image/png": "[encoded data removed]",
      "text/plain": [
       "<Figure size 432x288 with 1 Axes>"
      ]
     },
     "metadata": {
      "needs_background": "light"
     },
     "output_type": "display_data"
    }
   ],
   "source": [
    "all_percentiles = []\n",
    "\n",
    "log_num_neurons_spread = np.linspace(2, 10, num=13)  # Spread of log number of neurons to probe\n",
    "for log_num_neurons in log_num_neurons_spread:\n",
    "    num_neurons = int(2**log_num_neurons)\n",
    "    \n",
    "    # Make an hypothesis set\n",
    "    W1s = [std_weight * np.random.randn(num_features, num_neurons) for _ in range(num_hypotheses)]\n",
    "    b1s = [std_weight * np.random.randn(num_neurons) for _ in range(num_hypotheses)]\n",
    "    W2s = [std_weight * np.random.randn(num_neurons) for _ in range(num_hypotheses)]\n",
    "    hypothesis_set = list(zip(W1s, b1s, W2s))\n",
    "\n",
    "    all_percentiles.append(rademacher_percentiles(hypothesis_set))\n",
    "\n",
    "# Get the error bars for plotting\n",
    "all_percentiles = np.array(all_percentiles)\n",
    "errors = np.abs((all_percentiles[:, (0, 2)]).T - all_percentiles[:, 1])  # Errors are distances from the 50th percentile\n",
    "\n",
    "# Matplotlib magic\n",
    "plt.errorbar(log_num_neurons_spread, all_percentiles[:, 1], yerr=errors)\n",
    "plt.xlabel('Increasing num neurons in log2 scale')\n",
    "plt.ylabel('Rademacher complexity. Showing 10th, 50th and 90th percentile')\n",
    "plt.show()"
   ]
  },
  {
   "cell_type": "code",
   "execution_count": null,
   "metadata": {},
   "outputs": [],
   "source": []
  }
 ],
 "metadata": {
  "kernelspec": {
   "display_name": "ml_cpu",
   "language": "python",
   "name": "ml_cpu"
  },
  "language_info": {
   "codemirror_mode": {
    "name": "ipython",
    "version": 3
   },
   "file_extension": ".py",
   "mimetype": "text/x-python",
   "name": "python",
   "nbconvert_exporter": "python",
   "pygments_lexer": "ipython3",
   "version": "3.6.7"
  }
 },
 "nbformat": 4,
 "nbformat_minor": 2
}
