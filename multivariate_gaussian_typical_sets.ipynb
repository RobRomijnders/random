{
 "cells": [
  {
   "cell_type": "markdown",
   "metadata": {},
   "source": [
    "# A typical sample has log probability equal to minus entropy\n",
    "\n",
    "In this very short jupyter notebook, we set out to explore typical sets. In Mackay's book, chapter 4, we read an introduction to typical set. With an example from the Bernoulli distribution, we see that the typical samples from any probability distribution have log probability equal to minus entropy.\n",
    "\n",
    "Wikipedia defines a typical set as `the typical set is a set of sequences whose probability is close to two raised to the negative power of the entropy of their source distribution.`\n",
    "\n",
    "I have long been confused about typical sets, multivariate gaussians' soap bells and thin shells. Therefore, I wrote a small notebook to bring it all together.\n",
    "\n",
    "We will walk through the following\n",
    "\n",
    "  * Samples from a multivariate gaussian will concentrate on a thin shell\n",
    "  * This thin shell defines the typical set of the multivariate Gaussian\n",
    "  * Emperically, the samples from the shell have log probability close to minus entropy. (as it is the typical set)\n",
    "  * Writing out equations, we confirm that typical samples have log probability equal to entropy"
   ]
  },
  {
   "cell_type": "code",
   "execution_count": 4,
   "metadata": {},
   "outputs": [],
   "source": [
    "import numpy as np\n",
    "from scipy.stats import multivariate_normal as mvn\n",
    "import matplotlib.pyplot as plt\n",
    "from scipy.misc import logsumexp\n",
    "%matplotlib inline"
   ]
  },
  {
   "cell_type": "markdown",
   "metadata": {},
   "source": [
    "First, we take many samples from a multivariate normal. We plot a histrogram of the norm of these samples. We observe that these samples concentrate around norm equal to `sqrt(num_dim)`"
   ]
  },
  {
   "cell_type": "code",
   "execution_count": 5,
   "metadata": {},
   "outputs": [],
   "source": [
    "num_dim = 1600  # Number of dimensions in our Gaussian\n",
    "num_samples = 10000\n",
    "distr = mvn(cov=np.eye(num_dim))\n",
    "samples = distr.rvs(size=num_samples)"
   ]
  },
  {
   "cell_type": "code",
   "execution_count": 6,
   "metadata": {},
   "outputs": [
    {
     "data": {
      "text/plain": [
       "Text(0,0.5,'Histogram count')"
      ]
     },
     "execution_count": 6,
     "metadata": {},
     "output_type": "execute_result"
    },
    {
     "data": {
      "image/png": "[encoded data removed]",
      "text/plain": [
       "<Figure size 432x288 with 1 Axes>"
      ]
     },
     "metadata": {},
     "output_type": "display_data"
    }
   ],
   "source": [
    "plt.hist(np.sqrt(np.sum(np.power(samples, 2), 1)), bins=100);\n",
    "plt.xlabel('Norm of samples')\n",
    "plt.ylabel('Histogram count')"
   ]
  },
  {
   "cell_type": "markdown",
   "metadata": {},
   "source": [
    "The above histrogram shows our thin shell. Apparently, all the samples concentrate on a shell with radius `sqrt(num_dim)`. In our example, we have sixteen hundred dimensions, and we see that the histogram concentrates around 40."
   ]
  },
  {
   "cell_type": "markdown",
   "metadata": {},
   "source": [
    "Below, we glot another histrogram. This time we plot the log probability of the samples that we drew. Again, we observe some concentrating behaviour. The log probability concentrates around -2270. We will see that this number is no coincidence !!!"
   ]
  },
  {
   "cell_type": "code",
   "execution_count": 9,
   "metadata": {},
   "outputs": [
    {
     "data": {
      "text/plain": [
       "Text(0,0.5,'histrogram count')"
      ]
     },
     "execution_count": 9,
     "metadata": {},
     "output_type": "execute_result"
    },
    {
     "data": {
      "image/png": "[encoded data removed]",
      "text/plain": [
       "<Figure size 432x288 with 1 Axes>"
      ]
     },
     "metadata": {},
     "output_type": "display_data"
    }
   ],
   "source": [
    "plt.hist(distr.logpdf(samples), bins=100);\n",
    "plt.xlabel('log probability of drawn samples')\n",
    "plt.ylabel('histrogram count')"
   ]
  },
  {
   "cell_type": "markdown",
   "metadata": {},
   "source": [
    "The entropy for our multivariate Gaussian has a closed form: $$\\frac{1}{2} log \\ \\det \\ 2 \\pi \\epsilon \\Sigma$$\n",
    "\n",
    "Using the rule that $\\det I = 1$ and the rule that $\\det \\alpha X = \\alpha^{n_d} \\det X$, we obtain that the entropy of a unitary Gaussian is \n",
    "\n",
    "$$\\frac{ n_d}{2} \\log 2 \\pi \\epsilon$$"
   ]
  },
  {
   "cell_type": "code",
   "execution_count": 12,
   "metadata": {},
   "outputs": [
    {
     "name": "stdout",
     "output_type": "stream",
     "text": [
      "Entropy of Gaussian is 2270.301653127476\n"
     ]
    }
   ],
   "source": [
    "E = 0.5 * num_dim * np.log((2*np.pi*np.e))\n",
    "print(f'Entropy of Gaussian is {E}')"
   ]
  },
  {
   "cell_type": "markdown",
   "metadata": {},
   "source": [
    "Here we resolve our coincidence. The histogram of the log probability concentrates around the negative entropy. This observation confirms that typical samples have a log probability of negative entropy"
   ]
  },
  {
   "cell_type": "markdown",
   "metadata": {},
   "source": [
    "## The mathy version\n",
    "\n",
    "We can confirm our experiments by writing out the probability of a typical sample:\n",
    "\n",
    "Let's assume a unitary multivariate gaussian of dimensions $n_d$. Then a typical vector has norm $\\sqrt{n_d}$\n",
    "\n",
    "This norm writes as \n",
    "$$\\begin{align}\n",
    "\\sqrt{\\sum_{i=1}^{n_d} x_i^2} &= \\sqrt{n_d} \\\\ \n",
    "\\sum_{i=1}^{n_d} x_i^2 &= n_d\n",
    "\\end{align}$$\n",
    "\n",
    "In general, we know that the probability for a unitary gaussian is:\n",
    "\n",
    "$$\\begin{align}\n",
    "p(x) &= (2\\pi)^{\\frac{-n_d}{2}} e^{\\frac{-1}{2}\\sum_{i=1}^{n_d} x_i^2}\n",
    "\\end{align}$$\n",
    "\n",
    "Therefore, the probability for a typical x is:\n",
    "$$\\begin{align}\n",
    "p(typical \\ x) &= (2\\pi)^{\\frac{-n_d}{2}} e^{\\frac{-1}{2}\\sum_{i=1}^{n_d} (x_{typical, i})^2} \\\\\n",
    " &= (2\\pi)^{\\frac{-n_d}{2}} e^{\\frac{-n_d}{2}} \\\\ \n",
    " &= e^{\\frac{-n_d}{2}\\log{2\\pi}} e^{\\frac{-n_d}{2}} \\\\ \n",
    " &= e^{\\frac{-n_d}{2}\\log{2\\pi} - \\frac{n_d}{2}} \\\\\n",
    " &= e^{\\frac{-n_d}{2}\\log{2\\pi\\epsilon}} \\\\\n",
    "\\end{align}$$\n",
    "\n",
    "Rewrite the last line to \n",
    "$$\\log p(typical \\ x) = \\frac{-n_d}{2}\\log{2\\pi\\epsilon}$$\n",
    "\n",
    "Now we proved that a typical x has indeed log probability equal to minus the entropy"
   ]
  },
  {
   "cell_type": "markdown",
   "metadata": {},
   "source": [
    "### Closing\n",
    "\n",
    "This experiment and bit of math helped resolve a lot of confusion for me around shells, typical sets and all that. I hope it helped you too!\n",
    "\n",
    "As always, I am curious to any comments and questions. Reach me at romijndersrob@gmail.com"
   ]
  },
  {
   "cell_type": "code",
   "execution_count": null,
   "metadata": {},
   "outputs": [],
   "source": []
  },
  {
   "cell_type": "code",
   "execution_count": null,
   "metadata": {},
   "outputs": [],
   "source": []
  }
 ],
 "metadata": {
  "kernelspec": {
   "display_name": "gpss",
   "language": "python",
   "name": "gpss"
  },
  "language_info": {
   "codemirror_mode": {
    "name": "ipython",
    "version": 3
   },
   "file_extension": ".py",
   "mimetype": "text/x-python",
   "name": "python",
   "nbconvert_exporter": "python",
   "pygments_lexer": "ipython3",
   "version": "3.6.4"
  }
 },
 "nbformat": 4,
 "nbformat_minor": 2
}
